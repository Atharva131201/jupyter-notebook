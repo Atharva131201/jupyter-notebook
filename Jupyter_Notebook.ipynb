{
 "cells": [
  {
   "cell_type": "markdown",
   "metadata": {},
   "source": [
    "<center>\n",
    "    <img src=\"https://cf-courses-data.s3.us.cloud-object-storage.appdomain.cloud/IBMDeveloperSkillsNetwork-DS0105EN-SkillsNetwork/labs/Module2/images/SN_web_lightmode.png\" width=\"300\" alt=\"cognitiveclass.ai logo\">\n",
    "</center>\n"
   ]
  },
  {
   "cell_type": "markdown",
   "metadata": {},
   "source": [
    "#### Add your code below following the instructions given in the course\n"
   ]
  },
  {
   "cell_type": "markdown",
   "metadata": {},
   "source": [
    "## DATA SCIENCE EXERCISE"
   ]
  },
  {
   "cell_type": "markdown",
   "metadata": {},
   "source": [
    "## In this lab you will learn about the data science tools,libraries and etc"
   ]
  },
  {
   "cell_type": "markdown",
   "metadata": {
    "tags": []
   },
   "source": [
    "## List of Top Programming Languages for Data Science\n",
    "    *Python.\n",
    "    *SQL (Structured Query Language)\n",
    "    *R.\n",
    "    *Julia.\n",
    "    *JavaScript.\n",
    "    *Scala.\n",
    "    *Java.\n",
    "    *Go."
   ]
  },
  {
   "cell_type": "markdown",
   "metadata": {
    "tags": []
   },
   "source": [
    "## Top Python Libraries for Data Science\n",
    "     *TensorFlow.\n",
    "     *NumPy.\n",
    "     *SciPy.\n",
    "     *Pandas.\n",
    "     *Matplotlib.\n",
    "     *Keras.\n",
    "     *SciKit-Learn.\n",
    "     *PyTorch.\n",
    " "
   ]
  },
  {
   "cell_type": "markdown",
   "metadata": {},
   "source": [
    "# Data Science Tools\n",
    "\n",
    "| Tool           | Description                                                |\n",
    "|----------------|------------------------------------------------------------|\n",
    "| Python         | A versatile programming language popular in data science.  |\n",
    "| R              | A language and environment for statistical computing.      |\n",
    "| SQL            | A language for managing and querying relational databases. |\n",
    "| Jupyter        | An open-source web application for interactive computing.  |\n",
    "| Pandas         | A Python library for data manipulation and analysis.       |\n",
    "| NumPy          | A Python library for numerical computations.               |\n",
    "| SciPy          | A Python library for scientific and technical computing.   |\n",
    "| Matplotlib     | A Python library for data visualization.                   |\n",
    "| TensorFlow     | An open-source library for machine learning and AI.        |\n",
    "| Scikit-learn   | A Python library for machine learning.                     |\n",
    "| ggplot2        | An R package for data visualization.                       |\n",
    "| Hadoop         | A framework for distributed storage and processing of big data. |\n",
    "| Spark          | An open-source analytics engine for big data processing.   |\n"
   ]
  },
  {
   "cell_type": "markdown",
   "metadata": {},
   "source": [
    "# Arithmetic Expression Examples\n",
    "\n",
    "Arithmetic expressions are used to perform mathematical operations. Here are some basic examples:\n",
    "\n",
    "- **Addition:** `3 + 2` results in `5`\n",
    "- **Subtraction:** `7 - 4` results in `3`\n",
    "- **Multiplication:** `6 * 3` results in `18`\n",
    "- **Division:** `8 / 2` results in `4`\n",
    "- **Exponentiation:** `2^3` or `2**3` results in `8`\n",
    "- **Modulus:** `10 % 3` results in `1`"
   ]
  },
  {
   "cell_type": "code",
   "execution_count": 4,
   "metadata": {
    "tags": []
   },
   "outputs": [
    {
     "name": "stdout",
     "output_type": "stream",
     "text": [
      "Multiplication result:  42\n",
      "Addition result:  25\n"
     ]
    }
   ],
   "source": [
    "# Code cell to multiply and add numbers\n",
    "# Multiply two numbers\n",
    "result_multiplication = 6 * 7\n",
    "\n",
    "# Add two numbers\n",
    "result_addition = 10 + 15\n",
    "\n",
    "# Display the results\n",
    "print(\"Multiplication result: \", result_multiplication)\n",
    "print(\"Addition result: \", result_addition)\n"
   ]
  },
  {
   "cell_type": "code",
   "execution_count": 5,
   "metadata": {
    "tags": []
   },
   "outputs": [
    {
     "name": "stdout",
     "output_type": "stream",
     "text": [
      "120 minutes is equal to 2.0 hours\n"
     ]
    }
   ],
   "source": [
    "# Code cell to convert minutes to hours\n",
    "def convert_minutes_to_hours(minutes):\n",
    "    hours = minutes / 60\n",
    "    return hours\n",
    "\n",
    "# Example conversion\n",
    "minutes = 120\n",
    "hours = convert_minutes_to_hours(minutes)\n",
    "\n",
    "# Display the result\n",
    "print(f\"{minutes} minutes is equal to {hours} hours\")\n"
   ]
  },
  {
   "cell_type": "markdown",
   "metadata": {},
   "source": [
    "# Objectives\n",
    "\n",
    "- Understand basic arithmetic operations\n",
    "- Learn how to convert time units\n",
    "- Practice writing and executing code in Jupyter Notebook\n",
    "- Familiarize with Markdown for documentation and note-taking\n"
   ]
  },
  {
   "cell_type": "markdown",
   "metadata": {},
   "source": [
    "Author:Atharva Suresh Nandurkar"
   ]
  },
  {
   "cell_type": "code",
   "execution_count": null,
   "metadata": {},
   "outputs": [],
   "source": []
  }
 ],
 "metadata": {
  "kernelspec": {
   "display_name": "Python",
   "language": "python",
   "name": "conda-env-python-py"
  },
  "language_info": {
   "codemirror_mode": {
    "name": "ipython",
    "version": 3
   },
   "file_extension": ".py",
   "mimetype": "text/x-python",
   "name": "python",
   "nbconvert_exporter": "python",
   "pygments_lexer": "ipython3",
   "version": "3.7.12"
  }
 },
 "nbformat": 4,
 "nbformat_minor": 4
}
